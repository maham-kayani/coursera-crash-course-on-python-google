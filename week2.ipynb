{
  "nbformat": 4,
  "nbformat_minor": 0,
  "metadata": {
    "colab": {
      "provenance": [],
      "authorship_tag": "ABX9TyNuD5mwbSSM22DH9nW/AkMb",
      "include_colab_link": true
    },
    "kernelspec": {
      "name": "python3",
      "display_name": "Python 3"
    },
    "language_info": {
      "name": "python"
    }
  },
  "cells": [
    {
      "cell_type": "markdown",
      "metadata": {
        "id": "view-in-github",
        "colab_type": "text"
      },
      "source": [
        "<a href=\"https://colab.research.google.com/github/maham-kayani/coursera-crash-course-on-python-google/blob/main/week2.ipynb\" target=\"_parent\"><img src=\"https://colab.research.google.com/assets/colab-badge.svg\" alt=\"Open In Colab\"/></a>"
      ]
    },
    {
      "cell_type": "code",
      "execution_count": 2,
      "metadata": {
        "colab": {
          "base_uri": "https://localhost:8080/"
        },
        "id": "1IZmjtHFcvzO",
        "outputId": "3aff2f54-cfd8-40e6-b9cf-b7172555d23e"
      },
      "outputs": [
        {
          "output_type": "stream",
          "name": "stdout",
          "text": [
            "Marjery lives at her home address of 1234 Mockingbird Lane\n"
          ]
        }
      ],
      "source": [
        "name = \"Marjery\"\n",
        "home_address = 1234\n",
        "print(name + \" lives at her home address of \" + str(home_address) + \" Mockingbird Lane\")\n",
        "# Should print \"Marjery lives at her home address of 1234 Mockingbird Lane\"\n"
      ]
    },
    {
      "cell_type": "code",
      "source": [
        "number = 4\n",
        "if number * 4 < 15:\n",
        " print(number / 4)\n",
        "elif number < 5:\n",
        " print(number + 3)\n",
        "else:\n",
        " print(number * 2 % 5)"
      ],
      "metadata": {
        "colab": {
          "base_uri": "https://localhost:8080/"
        },
        "id": "U-Ep1ZHoc-8n",
        "outputId": "7761648e-e847-460a-92bf-a0f4f3799d32"
      },
      "execution_count": 4,
      "outputs": [
        {
          "output_type": "stream",
          "name": "stdout",
          "text": [
            "7\n"
          ]
        }
      ]
    },
    {
      "cell_type": "code",
      "source": [
        "def identify_IP(IP_address):\n",
        "    if IP_address == \"192.168.1.1\":\n",
        "        IP_description = \"Network router\"\n",
        "    elif IP_address == \"8.8.8.8\" or IP_address == \"8.8.4.4\":\n",
        "        IP_description = \"Google DNS server\"\n",
        "    elif IP_address == \"142.250.191.46\":\n",
        "        IP_description = \"Google.com\"\n",
        "    else:\n",
        "        IP_description = \"unknown\"\n",
        "    return IP_description\n",
        "\n",
        "\n",
        "print(identify_IP(\"8.8.4.4\")) # Should print 'Google DNS server'\n",
        "print(identify_IP(\"142.250.191.46\")) # Should print 'Google.com'\n",
        "print(identify_IP(\"192.168.1.1\")) # Should print 'Network router'\n",
        "print(identify_IP(\"8.8.8.8\")) # Should print 'Google DNS server'\n",
        "print(identify_IP(\"10.10.10.10\")) # Should print 'unknown'\n",
        "print(identify_IP(\"\")) # Should Should print 'unknown'"
      ],
      "metadata": {
        "colab": {
          "base_uri": "https://localhost:8080/"
        },
        "id": "yhCex2Y3dKMr",
        "outputId": "ba6cebd9-3eba-4226-de57-602a2c59d9f0"
      },
      "execution_count": 6,
      "outputs": [
        {
          "output_type": "stream",
          "name": "stdout",
          "text": [
            "Google DNS server\n",
            "Google.com\n",
            "Network router\n",
            "Google DNS server\n",
            "unknown\n",
            "unknown\n"
          ]
        }
      ]
    },
    {
      "cell_type": "code",
      "source": [
        "def greater_value(x, y):\n",
        "    if x > y:\n",
        "        return x\n",
        "    else:\n",
        "       return y\n",
        "\n",
        "\n",
        "print(greater_value(10,3*5))"
      ],
      "metadata": {
        "colab": {
          "base_uri": "https://localhost:8080/"
        },
        "id": "rpcZRmDXdQTS",
        "outputId": "7ce1cdfb-4db1-49a0-cfe6-b163a15aa050"
      },
      "execution_count": 8,
      "outputs": [
        {
          "output_type": "stream",
          "name": "stdout",
          "text": [
            "15\n"
          ]
        }
      ]
    },
    {
      "cell_type": "code",
      "source": [
        "def fractional_part(numerator, denominator):\n",
        "    # Operate with numerator and denominator to\n",
        "    # keep just the fractional part of the quotient\n",
        "    if denominator == 0 :\n",
        "        part = 0\n",
        "    else:\n",
        "        part = (numerator%denominator)/denominator\n",
        "    return part\n",
        "\n",
        "\n",
        "print(fractional_part(5, 5)) # Should print 0\n",
        "print(fractional_part(5, 4)) # Should print 0.25\n",
        "print(fractional_part(5, 3)) # Should print 0.66...\n",
        "print(fractional_part(5, 2)) # Should print 0.5\n",
        "print(fractional_part(5, 0)) # Should print 0\n",
        "print(fractional_part(0, 5)) # Should print 0"
      ],
      "metadata": {
        "colab": {
          "base_uri": "https://localhost:8080/"
        },
        "id": "oOtT6wvsdT-j",
        "outputId": "2ce1e2eb-8924-4f80-dd53-4b6ff72a44b8"
      },
      "execution_count": 9,
      "outputs": [
        {
          "output_type": "stream",
          "name": "stdout",
          "text": [
            "0.0\n",
            "0.25\n",
            "0.6666666666666666\n",
            "0.5\n",
            "0\n",
            "0.0\n"
          ]
        }
      ]
    }
  ]
}