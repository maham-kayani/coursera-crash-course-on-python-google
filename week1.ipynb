{
  "nbformat": 4,
  "nbformat_minor": 0,
  "metadata": {
    "colab": {
      "provenance": [],
      "authorship_tag": "ABX9TyMT/AOgkU4zCDjLQ8nLGV27",
      "include_colab_link": true
    },
    "kernelspec": {
      "name": "python3",
      "display_name": "Python 3"
    },
    "language_info": {
      "name": "python"
    }
  },
  "cells": [
    {
      "cell_type": "markdown",
      "metadata": {
        "id": "view-in-github",
        "colab_type": "text"
      },
      "source": [
        "<a href=\"https://colab.research.google.com/github/maham-kayani/coursera-crash-course-on-python-google/blob/main/week1.ipynb\" target=\"_parent\"><img src=\"https://colab.research.google.com/assets/colab-badge.svg\" alt=\"Open In Colab\"/></a>"
      ]
    },
    {
      "cell_type": "code",
      "execution_count": 3,
      "metadata": {
        "colab": {
          "base_uri": "https://localhost:8080/"
        },
        "id": "mpF99L22fVo2",
        "outputId": "9e9cebaf-4d6e-4323-8d54-e0d2f8dfded8"
      },
      "outputs": [
        {
          "output_type": "stream",
          "name": "stdout",
          "text": [
            "20.0\n"
          ]
        }
      ],
      "source": [
        "print(6*2-5/(1+4)+3**2)\n",
        "#quiz week1"
      ]
    },
    {
      "cell_type": "code",
      "source": [
        "# 60 minutes in an hour **calculate in 24 hours**\n",
        "print (60*24)"
      ],
      "metadata": {
        "id": "e8JNzNhunxLW",
        "colab": {
          "base_uri": "https://localhost:8080/"
        },
        "outputId": "b0f2e5d2-3dd5-4d37-9cba-f7f0e63080e0"
      },
      "execution_count": 5,
      "outputs": [
        {
          "output_type": "stream",
          "name": "stdout",
          "text": [
            "1440\n"
          ]
        }
      ]
    },
    {
      "cell_type": "code",
      "source": [
        "#print amount of possible formed with 6 letters.There are 26 letters in alhabets\n",
        "print(26**6)"
      ],
      "metadata": {
        "colab": {
          "base_uri": "https://localhost:8080/"
        },
        "id": "gXkTi2jQb2jR",
        "outputId": "60a45e82-27d1-42f9-ca8e-1ada69bc3201"
      },
      "execution_count": 6,
      "outputs": [
        {
          "output_type": "stream",
          "name": "stdout",
          "text": [
            "308915776\n"
          ]
        }
      ]
    },
    {
      "cell_type": "code",
      "source": [
        "download_size_kb = 200*1024\n",
        "total_computers = 200\n",
        "total_kbs = download_size_kb * total_computers\n",
        "\n",
        "\n",
        "print(total_kbs) # Should print 40960000.0"
      ],
      "metadata": {
        "colab": {
          "base_uri": "https://localhost:8080/"
        },
        "id": "IZtQvdz7cQGc",
        "outputId": "6bb36216-e488-4dc2-d1a0-4d2d3f384f38"
      },
      "execution_count": 7,
      "outputs": [
        {
          "output_type": "stream",
          "name": "stdout",
          "text": [
            "40960000\n"
          ]
        }
      ]
    }
  ]
}