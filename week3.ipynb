{
  "nbformat": 4,
  "nbformat_minor": 0,
  "metadata": {
    "colab": {
      "provenance": [],
      "authorship_tag": "ABX9TyPpA+hPdbPYQg6zhX5eBjTS",
      "include_colab_link": true
    },
    "kernelspec": {
      "name": "python3",
      "display_name": "Python 3"
    },
    "language_info": {
      "name": "python"
    }
  },
  "cells": [
    {
      "cell_type": "markdown",
      "metadata": {
        "id": "view-in-github",
        "colab_type": "text"
      },
      "source": [
        "<a href=\"https://colab.research.google.com/github/maham-kayani/coursera-crash-course-on-python-google/blob/main/week3.ipynb\" target=\"_parent\"><img src=\"https://colab.research.google.com/assets/colab-badge.svg\" alt=\"Open In Colab\"/></a>"
      ]
    },
    {
      "cell_type": "code",
      "execution_count": null,
      "metadata": {
        "colab": {
          "base_uri": "https://localhost:8080/"
        },
        "id": "4N2tk4ArdpPD",
        "outputId": "bf1be7bc-22cc-4f7d-e3ff-bf7c7435e8c6"
      },
      "outputs": [
        {
          "output_type": "stream",
          "name": "stdout",
          "text": [
            "2 4 6 8 10 12 "
          ]
        }
      ],
      "source": [
        "number = 2 # Initialize the variable\n",
        "while number <= 12: # Complete the while loop condition\n",
        "    print(number, end=\" \")\n",
        "    number +=2 # Increment the variable\n",
        "\n",
        "# Should print 2 4 6 8 10 12"
      ]
    },
    {
      "cell_type": "code",
      "source": [
        "for number in range(2,12+1,2):\n",
        "    print(number)\n",
        "\n",
        "# Should print:\n",
        "# 2\n",
        "# 4\n",
        "# 6\n",
        "# 8\n",
        "# 10\n",
        "# 12"
      ],
      "metadata": {
        "colab": {
          "base_uri": "https://localhost:8080/"
        },
        "id": "Z6cT61cudrnF",
        "outputId": "f1874d6d-dbd9-45d8-a3d3-32261c684b83"
      },
      "execution_count": null,
      "outputs": [
        {
          "output_type": "stream",
          "name": "stdout",
          "text": [
            "2\n",
            "4\n",
            "6\n",
            "8\n",
            "10\n",
            "12\n"
          ]
        }
      ]
    },
    {
      "cell_type": "code",
      "source": [
        "def factorial(n):\n",
        "    result = n\n",
        "\n",
        "    n -= 1\n",
        "    while n>0: # The while loop should execute as long as n is greater than 0\n",
        "        result *= n # Multiply the current result by the current value of n\n",
        "        n -=1 # Decrement the appropriate variable by -1\n",
        "    return result\n",
        "\n",
        "\n",
        "print(factorial(3)) # Should print 6\n",
        "print(factorial(9)) # Should print 362880\n",
        "print(factorial(1)) # Should print 1"
      ],
      "metadata": {
        "colab": {
          "base_uri": "https://localhost:8080/"
        },
        "id": "keueVWfvdvI1",
        "outputId": "dc129077-b81c-4285-8e92-a2ae67ea5530"
      },
      "execution_count": null,
      "outputs": [
        {
          "output_type": "stream",
          "name": "stdout",
          "text": [
            "6\n",
            "362880\n",
            "1\n"
          ]
        }
      ]
    },
    {
      "cell_type": "code",
      "source": [
        "def multiplication_table(start, stop):\n",
        "    # Complete the outer loop range\n",
        "    for x in range(start, stop +1 ):\n",
        "         # Complete the inner loop range\n",
        "        for y in range(1, 4):\n",
        "            # Prints the value of \"x\" multiplied by \"y\"\n",
        "            # and inserts a space after each value\n",
        "            print(str(x*y), end=\" \")\n",
        "        # An empty print() function inserts a line break at the\n",
        "        # end of the row\n",
        "        print()\n",
        "\n",
        "\n",
        "multiplication_table(1, 3)\n",
        "# Should print the multiplication table shown above\n"
      ],
      "metadata": {
        "colab": {
          "base_uri": "https://localhost:8080/"
        },
        "id": "E_3H6dCwdx9V",
        "outputId": "06f786fd-0b92-409c-d620-a1093c07eb54"
      },
      "execution_count": null,
      "outputs": [
        {
          "output_type": "stream",
          "name": "stdout",
          "text": [
            "1 2 3 \n",
            "2 4 6 \n",
            "3 6 9 \n"
          ]
        }
      ]
    },
    {
      "cell_type": "code",
      "source": [
        "def odd_numbers(maximum):\n",
        "\n",
        "    return_string = \"\" # Initializes variable as a string\n",
        "\n",
        "    # Complete the for loop with a range that includes all\n",
        "    # odd numbers up to and including the \"maximum\" value.\n",
        "    for x in range(1, maximum + 1, 2):\n",
        "        return_string +=str(x) + \" \"\n",
        "        # Complete the body of the loop by appending the odd number\n",
        "        # followed by a space to the \"return_string\" variable.\n",
        "        ___\n",
        "\n",
        "    # This .strip command will remove the final \" \" space\n",
        "    # at the end of the \"return_string\".\n",
        "    return return_string.strip()\n",
        "\n",
        "\n",
        "print(odd_numbers(6))  # Should be 1 3 5\n",
        "print(odd_numbers(10)) # Should be 1 3 5 7 9\n",
        "print(odd_numbers(1))  # Should be 1\n",
        "print(odd_numbers(3))  # Should be 1 3\n",
        "print(odd_numbers(0))  # No numbers displayed\n"
      ],
      "metadata": {
        "colab": {
          "base_uri": "https://localhost:8080/"
        },
        "id": "Ja6qdIjzd2FB",
        "outputId": "456024b1-f906-416c-ae5c-6dbae9443038"
      },
      "execution_count": null,
      "outputs": [
        {
          "output_type": "stream",
          "name": "stdout",
          "text": [
            "1 3 5\n",
            "1 3 5 7 9\n",
            "1\n",
            "1 3\n",
            "\n"
          ]
        }
      ]
    },
    {
      "cell_type": "code",
      "source": [
        "def decade_counter():\n",
        "    while year < 50:\n",
        "        year += 10\n",
        "    return year\n",
        "# wrong operator"
      ],
      "metadata": {
        "id": "qoJoHa6Rd4-F"
      },
      "execution_count": null,
      "outputs": []
    },
    {
      "cell_type": "code",
      "source": [
        "for x in range(10):\n",
        "    for y in range(x):\n",
        "        print(y)"
      ],
      "metadata": {
        "colab": {
          "base_uri": "https://localhost:8080/"
        },
        "id": "b69pSTyQeBWe",
        "outputId": "77519453-37bc-4a25-c1d3-0585e6609468"
      },
      "execution_count": null,
      "outputs": [
        {
          "output_type": "stream",
          "name": "stdout",
          "text": [
            "0\n",
            "0\n",
            "1\n",
            "0\n",
            "1\n",
            "2\n",
            "0\n",
            "1\n",
            "2\n",
            "3\n",
            "0\n",
            "1\n",
            "2\n",
            "3\n",
            "4\n",
            "0\n",
            "1\n",
            "2\n",
            "3\n",
            "4\n",
            "5\n",
            "0\n",
            "1\n",
            "2\n",
            "3\n",
            "4\n",
            "5\n",
            "6\n",
            "0\n",
            "1\n",
            "2\n",
            "3\n",
            "4\n",
            "5\n",
            "6\n",
            "7\n",
            "0\n",
            "1\n",
            "2\n",
            "3\n",
            "4\n",
            "5\n",
            "6\n",
            "7\n",
            "8\n"
          ]
        }
      ]
    }
  ]
}