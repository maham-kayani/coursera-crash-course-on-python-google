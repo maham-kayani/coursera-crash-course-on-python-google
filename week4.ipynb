{
  "nbformat": 4,
  "nbformat_minor": 0,
  "metadata": {
    "colab": {
      "provenance": [],
      "authorship_tag": "ABX9TyM6hbGN1F0LVn8ALvMYcqC5",
      "include_colab_link": true
    },
    "kernelspec": {
      "name": "python3",
      "display_name": "Python 3"
    },
    "language_info": {
      "name": "python"
    }
  },
  "cells": [
    {
      "cell_type": "markdown",
      "metadata": {
        "id": "view-in-github",
        "colab_type": "text"
      },
      "source": [
        "<a href=\"https://colab.research.google.com/github/maham-kayani/coursera-crash-course-on-python-google/blob/main/week4.ipynb\" target=\"_parent\"><img src=\"https://colab.research.google.com/assets/colab-badge.svg\" alt=\"Open In Colab\"/></a>"
      ]
    },
    {
      "cell_type": "code",
      "execution_count": 2,
      "metadata": {
        "colab": {
          "base_uri": "https://localhost:8080/"
        },
        "id": "irKoGCBtfBJH",
        "outputId": "ba38a70c-ef4f-422b-87c6-0ecd1a99c29c"
      },
      "outputs": [
        {
          "output_type": "stream",
          "name": "stdout",
          "text": [
            "H\n",
            "P\n",
            "K\n"
          ]
        }
      ],
      "source": [
        "def first_character(string):\n",
        "    strings=string[0]\n",
        "    # Complete the return statement using a string operation.\n",
        "    return strings\n",
        "\n",
        "\n",
        "print(first_character(\"Hello, World\")) # Should print H\n",
        "print(first_character(\"Python is awesome\")) # Should print P\n",
        "print(first_character(\"Keep going\")) # Should print K"
      ]
    },
    {
      "cell_type": "code",
      "source": [
        "def string_words(string):\n",
        "    # Complete the return statement using both a string operation and\n",
        "    sting_hi=string.split()\n",
        "    # a string method in a single line.\n",
        "    return len(sting_hi)\n",
        "\n",
        "\n",
        "print(string_words(\"Hello, World\")) # Should print 2\n",
        "print(string_words(\"Python is awesome\")) # Should print 3\n",
        "print(string_words(\"Keep going\")) # Should print 2\n",
        "print(string_words(\"Have a nice day\")) # Should print 4"
      ],
      "metadata": {
        "colab": {
          "base_uri": "https://localhost:8080/"
        },
        "id": "O_zlb2q3fl_Z",
        "outputId": "39932b52-8f3f-43a6-d912-0bdb3b0b8e35"
      },
      "execution_count": 4,
      "outputs": [
        {
          "output_type": "stream",
          "name": "stdout",
          "text": [
            "2\n",
            "3\n",
            "2\n",
            "4\n"
          ]
        }
      ]
    },
    {
      "cell_type": "code",
      "source": [
        "def sort_distance(distances):\n",
        "    distances.sort(reverse=True) # Sort the list\n",
        "     # Reverse the order of the list\n",
        "    return distances\n",
        "\n",
        "\n",
        "print(sort_distance([2,4,0,15,8,9]))\n",
        "# Should print [15, 9, 8, 4, 2, 0]"
      ],
      "metadata": {
        "colab": {
          "base_uri": "https://localhost:8080/"
        },
        "id": "V4P37cyIfo-o",
        "outputId": "78b38eae-67b5-4fd0-c070-d6ef3eaee215"
      },
      "execution_count": 6,
      "outputs": [
        {
          "output_type": "stream",
          "name": "stdout",
          "text": [
            "[15, 9, 8, 4, 2, 0]\n"
          ]
        }
      ]
    },
    {
      "cell_type": "code",
      "source": [
        "def squares(start, end):\n",
        "    return [ square ** 2 for square in range ( start, end +1) ] # Create the required list comprehension.\n",
        "\n",
        "\n",
        "print(squares(2, 3)) # Should print [4, 9]\n",
        "print(squares(1, 5)) # Should print [1, 4, 9, 16, 25]\n",
        "print(squares(0, 10)) # Should print [0, 1, 4, 9, 16, 25, 36, 49, 64, 81, 100]"
      ],
      "metadata": {
        "colab": {
          "base_uri": "https://localhost:8080/"
        },
        "id": "68uWzXC5frEh",
        "outputId": "a86df64e-84e7-4c33-db71-845b070ad634"
      },
      "execution_count": 8,
      "outputs": [
        {
          "output_type": "stream",
          "name": "stdout",
          "text": [
            "[4, 9]\n",
            "[1, 4, 9, 16, 25]\n",
            "[0, 1, 4, 9, 16, 25, 36, 49, 64, 81, 100]\n"
          ]
        }
      ]
    },
    {
      "cell_type": "code",
      "source": [
        "def car_listing(car_prices):\n",
        "  result = \"\"\n",
        "  # Complete the for loop to iterate through the key and value items\n",
        "  # in the dictionary.\n",
        "  for x,y in car_prices.items():\n",
        "    result += f\"A {x} costs {y} dollars\\n\" # Use a string method to format the required string.\n",
        "  return result\n",
        "\n",
        "print(car_listing({\"Kia Soul\":19000, \"Lamborghini Diablo\":55000, \"Ford Fiesta\":13000, \"Toyota Prius\":24000}))\n",
        "\n",
        "# Should print:\n",
        "# A Kia Soul costs 19000 dollars\n",
        "# A Lamborghini Diablo costs 55000 dollars\n",
        "# A Ford Fiesta costs 13000 dollars\n",
        "# A Toyota Prius costs 24000 dollars"
      ],
      "metadata": {
        "colab": {
          "base_uri": "https://localhost:8080/"
        },
        "id": "_MD107HOfvhu",
        "outputId": "1182dd0a-5f27-4297-c755-152658147d79"
      },
      "execution_count": 10,
      "outputs": [
        {
          "output_type": "stream",
          "name": "stdout",
          "text": [
            "A Kia Soul costs 19000 dollars\n",
            "A Lamborghini Diablo costs 55000 dollars\n",
            "A Ford Fiesta costs 13000 dollars\n",
            "A Toyota Prius costs 24000 dollars\n",
            "\n"
          ]
        }
      ]
    },
    {
      "cell_type": "code",
      "source": [
        "def combine_guests(guests1, guests2):\n",
        "  guests2.update(guests1) # Use a dictionary method to combine the dictionaries.\n",
        "  return guests2\n",
        "\n",
        "Ricks_guests = { \"Adam\":2, \"Camila\":3, \"David\":1, \"Jamal\":3, \"Charley\":2, \"Titus\":1, \"Raj\":4}\n",
        "Tessas_guests = { \"David\":4, \"Noemi\":1, \"Raj\":2, \"Adam\":1, \"Sakira\":3, \"Chidi\":5}\n",
        "\n",
        "print(combine_guests(Ricks_guests, Tessas_guests))\n",
        "# Should print:\n",
        "# {'David': 1, 'Noemi': 1, 'Raj': 4, 'Adam': 2, 'Sakira': 3, 'Chidi': 5, 'Camila': 3, 'Jamal': 3, 'Charley': 2, 'Titus': 1}\n"
      ],
      "metadata": {
        "colab": {
          "base_uri": "https://localhost:8080/"
        },
        "id": "PJLHBCgQfzI6",
        "outputId": "9e7f34f3-d1ba-4c1b-c487-7ecc00367597"
      },
      "execution_count": 12,
      "outputs": [
        {
          "output_type": "stream",
          "name": "stdout",
          "text": [
            "{'David': 1, 'Noemi': 1, 'Raj': 4, 'Adam': 2, 'Sakira': 3, 'Chidi': 5, 'Camila': 3, 'Jamal': 3, 'Charley': 2, 'Titus': 1}\n"
          ]
        }
      ]
    },
    {
      "cell_type": "code",
      "source": [
        "def count_letters(text):\n",
        "  # Initialize a new dictionary.\n",
        "  dictionary = {}\n",
        "  # Complete the for loop to iterate through each \"text\" character and\n",
        "  # use a string method to ensure all letters are lowercase.\n",
        "  for c in text.lower():\n",
        "    # Complete the if-statement using a string method to check if the\n",
        "    # character is a letter.\n",
        "    if c.isalpha():\n",
        "      # Complete the if-statement using a logical operator to check if\n",
        "      # the letter is not already in the dictionary.\n",
        "      if c not in dictionary:\n",
        "           # Use a dictionary operation to add the letter as a key\n",
        "           # and set the initial count value to zero.\n",
        "           dictionary[c]=0\n",
        "      # Use a dictionary operation to increment the letter count value\n",
        "      # for the existing key.\n",
        "      ___\n",
        "      dictionary[c] +=1 # Increment the letter counter.\n",
        "  return dictionary\n",
        "\n",
        "print(count_letters(\"AaBbCc\"))\n",
        "# Should be {'a': 2, 'b': 2, 'c': 2}\n",
        "\n",
        "print(count_letters(\"Math is fun! 2+2=4\"))\n",
        "# Should be {'m': 1, 'a': 1, 't': 1, 'h': 1, 'i': 1, 's': 1, 'f': 1, 'u': 1, 'n': 1}\n",
        "\n",
        "print(count_letters(\"This is a sentence.\"))\n",
        "# Should be {'t': 2, 'h': 1, 'i': 2, 's': 3, 'a': 1, 'e': 3, 'n': 2, 'c': 1}"
      ],
      "metadata": {
        "colab": {
          "base_uri": "https://localhost:8080/"
        },
        "id": "TAIQL8sRf2Hh",
        "outputId": "88f3098a-e7b1-4c89-92a5-9fbe143c9e7b"
      },
      "execution_count": 14,
      "outputs": [
        {
          "output_type": "stream",
          "name": "stdout",
          "text": [
            "{'a': 2, 'b': 2, 'c': 2}\n",
            "{'m': 1, 'a': 1, 't': 1, 'h': 1, 'i': 1, 's': 1, 'f': 1, 'u': 1, 'n': 1}\n",
            "{'t': 2, 'h': 1, 'i': 2, 's': 3, 'a': 1, 'e': 3, 'n': 2, 'c': 1}\n"
          ]
        }
      ]
    },
    {
      "cell_type": "code",
      "source": [
        "music_genres = [\"rock\", \"pop\", \"country\"]\n",
        "music_genres.append(\"blues\")"
      ],
      "metadata": {
        "id": "SdvaWnsJf5pz"
      },
      "execution_count": 16,
      "outputs": []
    },
    {
      "cell_type": "code",
      "source": [
        "teacher_names = {\"Math\": \"Aniyah Cook\", \"Science\": \"Ines Bisset\", \"Engineering\": \"Wayne Branon\"}\n",
        "teacher_names.values()"
      ],
      "metadata": {
        "colab": {
          "base_uri": "https://localhost:8080/"
        },
        "id": "tYZKHC1Bf8ZO",
        "outputId": "fa61f52f-6e32-4cab-b58a-78bd3cf9e567"
      },
      "execution_count": 17,
      "outputs": [
        {
          "output_type": "execute_result",
          "data": {
            "text/plain": [
              "dict_values(['Aniyah Cook', 'Ines Bisset', 'Wayne Branon'])"
            ]
          },
          "metadata": {},
          "execution_count": 17
        }
      ]
    }
  ]
}